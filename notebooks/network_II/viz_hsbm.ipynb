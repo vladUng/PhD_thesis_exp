{
 "cells": [
  {
   "cell_type": "code",
   "execution_count": 1,
   "metadata": {},
   "outputs": [
    {
     "name": "stdout",
     "output_type": "stream",
     "text": [
      "The autoreload extension is already loaded. To reload it, use:\n",
      "  %reload_ext autoreload\n"
     ]
    }
   ],
   "source": [
    "%load_ext autoreload\n",
    "import pandas as pd\n",
    "import numpy as np\n",
    "import os\n",
    "import sys\n",
    "\n",
    "\n",
    "sys.path.append('/Users/vlad/Documents/Code/York/iNet_v2/src/')\n",
    "\n",
    "from NetworkAnalysis.ExperimentSet import ExperimentSet\n",
    "from NetworkAnalysis.GraphToolExp import GraphToolExperiment as GtExp\n",
    "\n",
    "\n",
    "# Gsea libraries\n",
    "import matplotlib.pyplot as plt\n",
    "\n",
    "import graph_tool.all as gt\n",
    "\n",
    "# %matplotlib inline"
   ]
  },
  {
   "cell_type": "code",
   "execution_count": 2,
   "metadata": {},
   "outputs": [],
   "source": [
    "results_path = \"../../results/exp/\"\n",
    "data_base = \"../../data/\"\n",
    "base_path = \"../../results/network_II/\"\n",
    "\n",
    "figures_path = \"../network_II/reward/\"\n",
    "\n",
    "# base_sbm_path = \"../../../iNet_v2/\"\n",
    "sbm_exps_path = \"sbm/\"\n",
    "control_exps_path = \"mut_control_v3/\"\n",
    "\n",
    "vu_output = pd.read_csv(f\"{data_base}/metadata/VU_clustering_v3.tsv\", sep=\"\\t\", index_col=\"Sample\")\n",
    "\n",
    "tcga_mutations_df = pd.read_csv(f\"{data_base}/tumour/mutations_tcga.csv\")\n",
    "tcga_mutations_df = tcga_mutations_df[tcga_mutations_df[\"count\"] != 0].set_index(\"gene\")\n",
    "\n",
    "all_tum_tpms = pd.read_csv(f\"{data_base}/tumour/tum_TPMs_selected_genes_gc42_all_v4.tsv\", sep=\"\\t\", index_col=\"genes\")\n",
    "\n",
    "\n",
    "healthy_metadata = pd.read_csv(f\"{data_base}/metadata/healthy_bladder_metadata.tsv\", sep=\"\\t\", index_col=\"Sample\")\n",
    "\n",
    "# tf list\n",
    "tf_path = f\"{data_base}/metadata/TF_names_v_1.01.txt\"\n",
    "if os.path.exists(tf_path):\n",
    "    tf_list = np.genfromtxt(fname=tf_path, delimiter=\"\\t\", skip_header=1, dtype=\"str\")"
   ]
  },
  {
   "cell_type": "code",
   "execution_count": 3,
   "metadata": {},
   "outputs": [
    {
     "name": "stdout",
     "output_type": "stream",
     "text": [
      "##### Experiment labels:  dict_keys(['standard_5K_6TF_sbm', 'standard_5K_6TF_hsbm', 'sigmoid_5K_6TF_hsbm'])\n",
      "Loading Graph-Tool for sigmoid_5K_6TF_hsbm\n"
     ]
    }
   ],
   "source": [
    "hsbm_v3 = ExperimentSet(\"v3\", base_path=base_path, exp_path=sbm_exps_path, mut_df=tcga_mutations_df, sel_sets=None, exp_type=\"iNet\")\n",
    "\n",
    "exps = {}\n",
    "for idx, exp in enumerate(hsbm_v3.get_exps()):\n",
    "    if exp.sbm_method != \"hsbm\":  # or idx != 2:\n",
    "        continue\n",
    "\n",
    "    if \"standard\" in exp.name:\n",
    "        continue\n",
    "\n",
    "    print(f\"Loading Graph-Tool for {exp.type}\")\n",
    "    exp = GtExp.from_pgcna_inet(exp, rel_path=\"\")\n",
    "\n",
    "    # partitions from hSBM\n",
    "    exp.hsbm_add_vp(mut_df=tcga_mutations_df)\n",
    "    com_df, _ = exp.hsbm_get_gt_df()\n",
    "\n",
    "    exp.export_to_gephi(save=False, com_df=com_df)\n",
    "\n",
    "    # Need it for comparison\n",
    "    exps[exp.type] = exp\n",
    "\n",
    "hsbm_v3.exps = exps"
   ]
  },
  {
   "cell_type": "code",
   "execution_count": 4,
   "metadata": {},
   "outputs": [],
   "source": [
    "%autoreload 2\n",
    "sel_gt: GtExp = hsbm_v3.exps[\"sigmoid_5K_6TF_hsbm\"]\n",
    "gt_state: gt.NestedBlockState = sel_gt.hstateObj[\"state\"]\n",
    "\n",
    "sel_gt.hsbm_add_vp(mut_df=tcga_mutations_df)\n",
    "\n",
    "gt_g = sel_gt.gt_g\n",
    "pv = sel_gt.hstateObj[\"pv\"]\n",
    "pmode = sel_gt.hstateObj[\"pmode\"]\n",
    "\n",
    "com_df, _ = sel_gt.hsbm_get_gt_df()\n",
    "com_df[\"max_b\"] = com_df[\"P_lvl_0\"]\n",
    "\n",
    "gt.remove_self_loops(gt_g)\n",
    "\n",
    "######## ModCon and MEVS ########\n",
    "sel_gt.gt_modCon_MEV(all_tpms=sel_gt.tpm_df)\n",
    "\n",
    "# Compute and store the nodes/edges with all the information\n",
    "sel_gt.export_to_gephi(save=False, com_df = com_df)\n",
    "sel_gt.add_gt_prop_draw(gt_g, com_df=com_df, tf_list=tf_list)\n",
    "graph_stats = sel_gt.compute_graph_stats()\n"
   ]
  },
  {
   "cell_type": "markdown",
   "metadata": {},
   "source": [
    "# Visualisaition"
   ]
  },
  {
   "cell_type": "code",
   "execution_count": 5,
   "metadata": {},
   "outputs": [],
   "source": [
    "sel_gt: GtExp = hsbm_v3.exps[\"sigmoid_5K_6TF_hsbm\"]\n",
    "gt_g: gt.Graph = sel_gt.gt_g\n",
    "\n",
    "com_df, _ = sel_gt.hsbm_get_gt_df()\n",
    "sel_gt.graph_type = \"hsbm\"\n",
    "sel_gt.nodes_df[\"node_idx\"] = com_df[\"node_idx\"]\n",
    "sel_gt.nodes_df[\"max_b\"] = com_df[\"max_b\"]\n",
    "\n",
    "sel_gt.hsbm_add_vp(mut_df=tcga_mutations_df)\n",
    "sel_gt.add_gt_prop_draw(sel_gt.gt_g, com_df=com_df, tf_list=tf_list)\n",
    "\n",
    "gt_state: gt.NestedBlockState = sel_gt.hstateObj[\"state\"]\n",
    "pv = sel_gt.hstateObj[\"pv\"]\n",
    "\n",
    "vp_dg = gt_g.degree_property_map(deg=\"total\", weight=gt_g.ep[\"weight\"])"
   ]
  },
  {
   "cell_type": "code",
   "execution_count": 13,
   "metadata": {},
   "outputs": [],
   "source": [
    "draw_results = gt_state.draw(\n",
    "    # pos=pos,\n",
    "    layout=\"sfdp\",\n",
    "    # vertex_shape=\"pie\",\n",
    "    # vertex_pie_fractions=pv,\n",
    "    inline=False,\n",
    "    # vertex_color=gt_g.vp[\"colors_rank\"],\n",
    "    # vertex_color=gt.prop_to_size(gt_g.vp[\"modCon_rank\"], 0, 100, power=0.1),\n",
    "    vertex_text=gt_g.vp.prcsd_gene,\n",
    "    display_props=gt_g.vp.display_prop,\n",
    "    subsample_edgesint=int(gt_g.num_edges() * 0.3),\n",
    "    output_size=(2000, 2000),  # good to visualised in Notebook\n",
    "    # ######## For mut_count ########\n",
    "    # vertex_size=gt.prop_to_size((gt_g.vp[\"sel_com\"]), 1, 10, power=0.5),\n",
    "    # vertex_font_size=gt.prop_to_size(gt_g.vp.is_tf, 15, 30, power=0.5),\n",
    "    # edge_pen_width=gt.prop_to_size(gt_g.ep.weight, 2, 10, power=1),\n",
    "    # vertex_font_size=gt.prop_to_size(gt_g.vp.mut_count, 4, 10, power=1.0),  # 5, 30 for notebook  viz\n",
    "    ##### edges properties\n",
    "    # output=f\"{figures_path}/{sel_gt.name}_3_6.pdf\",\n",
    "    # hide=0,\n",
    "    update_layout=False,\n",
    "    nodesfirst=False,\n",
    "    # beta=0.7,\n",
    "    # chord_scale=5,\n",
    "    display_props_size=16,\n",
    ")"
   ]
  }
 ],
 "metadata": {
  "kernelspec": {
   "display_name": "iNet_gt2",
   "language": "python",
   "name": "python3"
  },
  "language_info": {
   "codemirror_mode": {
    "name": "ipython",
    "version": 3
   },
   "file_extension": ".py",
   "mimetype": "text/x-python",
   "name": "python",
   "nbconvert_exporter": "python",
   "pygments_lexer": "ipython3",
   "version": "3.12.4"
  }
 },
 "nbformat": 4,
 "nbformat_minor": 2
}
